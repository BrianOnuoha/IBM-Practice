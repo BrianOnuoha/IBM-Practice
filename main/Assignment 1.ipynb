{
 "cells": [
  {
   "cell_type": "markdown",
   "metadata": {},
   "source": [
    "## IBM Certification GIT Exercise"
   ]
  },
  {
   "cell_type": "markdown",
   "metadata": {},
   "source": [
    "This is Jupyter notebook is to carry out my final assignment for the Jupyter & Git section of the IBM data science certification."
   ]
  },
  {
   "cell_type": "markdown",
   "metadata": {},
   "source": [
    "There are two main programming languages for data science, namely;\n",
    "* Python\n",
    "* R"
   ]
  },
  {
   "cell_type": "markdown",
   "metadata": {},
   "source": [
    "There are various libraries for the various tasks involved in data science, below I have listed one Python library per task.\n",
    "\n",
    "### Data Cleaning\n",
    "* Pandas\n",
    "\n",
    "### Data Vizualization\n",
    "* Plotly\n",
    "\n",
    "### Data modelling\n",
    "* TensorFlow\n",
    "* PyTorch\n",
    "* NumPy"
   ]
  },
  {
   "cell_type": "markdown",
   "metadata": {},
   "source": [
    "There are various tools which can be used to develop data science solutions, I have listed a few tools.\n",
    "* R Studio\n",
    "* VS Code\n",
    "* Jupyter Notebook\n",
    "* JupyterLite\n"
   ]
  },
  {
   "cell_type": "markdown",
   "metadata": {},
   "source": [
    "Below are example arithmetic expressions that can be used.\n",
    "* a + b\n",
    "* a / b\n",
    "* (a + b)/c\n",
    "* a ^ b\n",
    "* a * b"
   ]
  },
  {
   "cell_type": "code",
   "execution_count": null,
   "metadata": {
    "vscode": {
     "languageId": "plaintext"
    }
   },
   "outputs": [],
   "source": [
    "# Addition in Python\n",
    "2 + 2"
   ]
  },
  {
   "cell_type": "code",
   "execution_count": null,
   "metadata": {
    "vscode": {
     "languageId": "plaintext"
    }
   },
   "outputs": [],
   "source": []
  }
 ],
 "metadata": {
  "language_info": {
   "name": "python"
  },
  "orig_nbformat": 4
 },
 "nbformat": 4,
 "nbformat_minor": 2
}
